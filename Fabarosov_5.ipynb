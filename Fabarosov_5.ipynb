{
 "cells": [
  {
   "cell_type": "markdown",
   "metadata": {
    "collapsed": true
   },
   "source": [
    "# Прикладная аналитика. Задание к лекции 5. Фабарисов Дмитрий"
   ]
  },
  {
   "cell_type": "code",
   "execution_count": 41,
   "metadata": {
    "collapsed": true
   },
   "outputs": [],
   "source": [
    "import pandas as pd\n",
    "import numpy as np\n",
    "import matplotlib.pyplot as plt  \n",
    "import copy\n",
    "import pickle\n",
    "import scipy as sp\n",
    "from scipy.stats import mannwhitneyu as MW\n",
    "from scipy.stats import kstest, ks_2samp\n",
    "from scipy.stats import expon\n",
    "from sklearn.cross_validation import train_test_split as Splitter\n",
    "%matplotlib inline"
   ]
  },
  {
   "cell_type": "markdown",
   "metadata": {},
   "source": [
    "## 1. Подготовка данных и разделение на экспериментальную  и контрольную выборки"
   ]
  },
  {
   "cell_type": "markdown",
   "metadata": {},
   "source": [
    "Перед запуском ноутбука запустили скрипт, который удалил все названия параметров, потому что иначе чтение слишком долгое"
   ]
  },
  {
   "cell_type": "code",
   "execution_count": 42,
   "metadata": {
    "collapsed": false
   },
   "outputs": [
    {
     "data": {
      "text/html": [
       "<div>\n",
       "<table border=\"1\" class=\"dataframe\">\n",
       "  <thead>\n",
       "    <tr style=\"text-align: right;\">\n",
       "      <th></th>\n",
       "      <th>slot</th>\n",
       "      <th>userID</th>\n",
       "      <th>ts</th>\n",
       "      <th>browser</th>\n",
       "      <th>all_cl</th>\n",
       "    </tr>\n",
       "  </thead>\n",
       "  <tbody>\n",
       "    <tr>\n",
       "      <th>0</th>\n",
       "      <td>1</td>\n",
       "      <td>1</td>\n",
       "      <td>2016-03-03</td>\n",
       "      <td>2</td>\n",
       "      <td>1</td>\n",
       "    </tr>\n",
       "    <tr>\n",
       "      <th>1</th>\n",
       "      <td>1</td>\n",
       "      <td>1</td>\n",
       "      <td>2016-03-03</td>\n",
       "      <td>2</td>\n",
       "      <td>5</td>\n",
       "    </tr>\n",
       "    <tr>\n",
       "      <th>2</th>\n",
       "      <td>1</td>\n",
       "      <td>1</td>\n",
       "      <td>2016-03-03</td>\n",
       "      <td>2</td>\n",
       "      <td>1</td>\n",
       "    </tr>\n",
       "    <tr>\n",
       "      <th>3</th>\n",
       "      <td>1</td>\n",
       "      <td>1</td>\n",
       "      <td>2016-03-03</td>\n",
       "      <td>2</td>\n",
       "      <td>1</td>\n",
       "    </tr>\n",
       "    <tr>\n",
       "      <th>4</th>\n",
       "      <td>1</td>\n",
       "      <td>1</td>\n",
       "      <td>2016-03-03</td>\n",
       "      <td>2</td>\n",
       "      <td>6</td>\n",
       "    </tr>\n",
       "  </tbody>\n",
       "</table>\n",
       "</div>"
      ],
      "text/plain": [
       "   slot  userID          ts  browser  all_cl\n",
       "0     1       1  2016-03-03        2       1\n",
       "1     1       1  2016-03-03        2       5\n",
       "2     1       1  2016-03-03        2       1\n",
       "3     1       1  2016-03-03        2       1\n",
       "4     1       1  2016-03-03        2       6"
      ]
     },
     "execution_count": 42,
     "metadata": {},
     "output_type": "execute_result"
    }
   ],
   "source": [
    "data = pd.read_csv('log.new.csv', sep='\\t')\n",
    "data.head()"
   ]
  },
  {
   "cell_type": "code",
   "execution_count": 43,
   "metadata": {
    "collapsed": true
   },
   "outputs": [],
   "source": [
    "data_contr = data[data['slot'] == 0]\n",
    "data_exp = data[data['slot'] == 1]\n",
    "userIDs = data['userID'].unique()\n",
    "controlIDs = data_contr['userID'].unique()\n",
    "expIDs = data_exp['userID'].unique()"
   ]
  },
  {
   "cell_type": "markdown",
   "metadata": {},
   "source": [
    "## 2. Подсчет метрик количества кликов, CTR, числа запросов"
   ]
  },
  {
   "cell_type": "code",
   "execution_count": 44,
   "metadata": {
    "collapsed": false
   },
   "outputs": [],
   "source": [
    "def clicks(data):\n",
    "    mat = data.as_matrix()\n",
    "    res = np.zeros(max(userIDs) + 1)\n",
    "    \n",
    "    for line in range(len(data)):\n",
    "        user = mat[line, 1]\n",
    "        res[user] += mat[line, 4]\n",
    "        \n",
    "    return res"
   ]
  },
  {
   "cell_type": "code",
   "execution_count": 45,
   "metadata": {
    "collapsed": false
   },
   "outputs": [],
   "source": [
    "def ctr(data):\n",
    "    mat = data.as_matrix()\n",
    "    clicks = np.zeros(max(userIDs) + 1)\n",
    "    shows = np.zeros(max(userIDs) + 1)\n",
    "    res = np.zeros(max(userIDs) + 1)\n",
    "    \n",
    "    for line in range(len(data)):\n",
    "        user = mat[line, 1]\n",
    "        clicks[user] += mat[line, 4]\n",
    "        shows[user] += 1\n",
    "    \n",
    "    for user in range(len(res)):\n",
    "        if clicks[user] != 0:\n",
    "            res[user] = float(clicks[user]) / shows[user]\n",
    "    \n",
    "    return res"
   ]
  },
  {
   "cell_type": "code",
   "execution_count": 46,
   "metadata": {
    "collapsed": true
   },
   "outputs": [],
   "source": [
    "def queries_count(data):\n",
    "    mat = data.as_matrix()\n",
    "    res = np.zeros(max(userIDs) + 1)\n",
    "    \n",
    "    for line in range(len(data)):\n",
    "        user = mat[line, 1]\n",
    "        res[user] += 1\n",
    "        \n",
    "    return res"
   ]
  },
  {
   "cell_type": "code",
   "execution_count": 47,
   "metadata": {
    "collapsed": false
   },
   "outputs": [],
   "source": [
    "def clicked_queries(data):\n",
    "    mat = data.as_matrix()\n",
    "    shows = np.zeros(max(userIDs) + 1)\n",
    "    clicked = np.zeros(max(userIDs) + 1)\n",
    "    res = np.zeros(max(userIDs) + 1)\n",
    "    clicked_ind = np.array(mat[:, 4] > 0, dtype=int)\n",
    "\n",
    "    for line in range(len(data)):        \n",
    "        user = mat[line, 1]\n",
    "        shows[user] += 1\n",
    "        clicked[user] += clicked_ind[line]\n",
    "\n",
    "    for user in range(len(res)):\n",
    "        if shows[user] != 0:\n",
    "            res[user] = float(clicked[user]) / shows[user]\n",
    "\n",
    "    return res"
   ]
  },
  {
   "cell_type": "code",
   "execution_count": 48,
   "metadata": {
    "collapsed": false,
    "scrolled": true
   },
   "outputs": [],
   "source": [
    "clicks_array = clicks(data)\n",
    "ctr_array = ctr(data)\n",
    "queries_count_array = queries_count(data)\n",
    "clicked_queries_array = clicked_queries(data)"
   ]
  },
  {
   "cell_type": "code",
   "execution_count": 49,
   "metadata": {
    "collapsed": true
   },
   "outputs": [],
   "source": [
    "clicks_contr = []\n",
    "clicks_exp = []\n",
    "qc_contr = []\n",
    "qc_exp = []\n",
    "ctr_contr = []\n",
    "ctr_exp = []\n",
    "cq_contr = []\n",
    "cq_exp = []\n",
    "\n",
    "for user in controlIDs:\n",
    "    clicks_contr.append(clicks_array[user])\n",
    "    ctr_contr.append(ctr_array[user])\n",
    "    qc_contr.append(queries_count_array[user])\n",
    "    cq_contr.append(clicked_queries_array[user])\n",
    "\n",
    "for user in expIDs:\n",
    "    clicks_exp.append(clicks_array[user])\n",
    "    ctr_exp.append(ctr_array[user])\n",
    "    qc_exp.append(queries_count_array[user])\n",
    "    cq_exp.append(clicked_queries_array[user])"
   ]
  },
  {
   "cell_type": "markdown",
   "metadata": {},
   "source": [
    "## 3. Подсчет статистик и уровней значимости"
   ]
  },
  {
   "cell_type": "markdown",
   "metadata": {
    "collapsed": true
   },
   "source": [
    "Прежде, чем применять статистические тесты посмотрим на данные: гистограммы распределения CTR для контрольной и экспериментальной выборок"
   ]
  },
  {
   "cell_type": "code",
   "execution_count": 50,
   "metadata": {
    "collapsed": false,
    "scrolled": false
   },
   "outputs": [
    {
     "data": {
      "image/png": "[encoded data removed]",
      "text/plain": [
       "<matplotlib.figure.Figure at 0x1096ac890>"
      ]
     },
     "metadata": {},
     "output_type": "display_data"
    },
    {
     "data": {
      "image/png": "[encoded data removed]",
      "text/plain": [
       "<matplotlib.figure.Figure at 0x11beb9990>"
      ]
     },
     "metadata": {},
     "output_type": "display_data"
    }
   ],
   "source": [
    "fig = plt.figure(figsize=(15, 3))\n",
    "_ = plt.hist(ctr_contr, bins=50, range=(0, 7), color='blue')\n",
    "_ = plt.hist(ctr_exp, bins=50, range=(0, 7), color='red')\n",
    "\n",
    "fig = plt.figure(figsize=(15, 3))\n",
    "_ = plt.hist(ctr_exp, bins=50, range=(0, 7), color='red')\n",
    "_ = plt.hist(ctr_contr, bins=50, range=(0, 7), color='blue')"
   ]
  },
  {
   "cell_type": "markdown",
   "metadata": {},
   "source": [
    "### Вывод про CTR:\n",
    "-Виден ожидаемый прирост CTR на экспериментальных данных.  \n",
    "-Распределение не похоже на нормальное, поэтому  \n",
    "1. Не рекомендуется пользоваться тестами Стьюдента, Вальда  \n",
    "2. Будем использовать критерии Манна — Уитни и Колмогорова-Смирнова"
   ]
  },
  {
   "cell_type": "code",
   "execution_count": 51,
   "metadata": {
    "collapsed": false,
    "scrolled": true
   },
   "outputs": [
    {
     "name": "stdout",
     "output_type": "stream",
     "text": [
      "MannwhitneyuResult(statistic=37725155448.0, pvalue=5.7215385393095495e-306)\n",
      "Ks_2sampResult(statistic=0.045118104880379484, pvalue=1.0621277092100762e-250)\n"
     ]
    }
   ],
   "source": [
    "print MW(ctr_contr, ctr_exp)\n",
    "print ks_2samp(ctr_contr, ctr_exp)"
   ]
  },
  {
   "cell_type": "markdown",
   "metadata": {},
   "source": [
    "#### Оба теста показали достаточный уровень значимости, чтобы утверждать, что выборки различны, притом так, как нужно"
   ]
  },
  {
   "cell_type": "markdown",
   "metadata": {},
   "source": [
    "### Аналогично поступим с количеством кликов"
   ]
  },
  {
   "cell_type": "code",
   "execution_count": 52,
   "metadata": {
    "collapsed": false,
    "scrolled": false
   },
   "outputs": [
    {
     "data": {
      "image/png": "[encoded data removed]",
      "text/plain": [
       "<matplotlib.figure.Figure at 0x11cfca0d0>"
      ]
     },
     "metadata": {},
     "output_type": "display_data"
    },
    {
     "data": {
      "image/png": "[encoded data removed]",
      "text/plain": [
       "<matplotlib.figure.Figure at 0x112026990>"
      ]
     },
     "metadata": {},
     "output_type": "display_data"
    }
   ],
   "source": [
    "fig = plt.figure(figsize=(15, 3))\n",
    "_ = plt.hist(clicks_contr, bins=50, range=(0, 50), color='blue')\n",
    "_ = plt.hist(clicks_exp, bins=50, range=(0, 50), color='red')\n",
    "\n",
    "fig = plt.figure(figsize=(15, 3))\n",
    "_ = plt.hist(clicks_exp, bins=50, range=(0, 50), color='red')\n",
    "_ = plt.hist(clicks_contr, bins=50, range=(0, 50), color='blue')"
   ]
  },
  {
   "cell_type": "markdown",
   "metadata": {},
   "source": [
    "Гистограммы имеют ожидаемый вид, распределение тоже явно не нормальное, проверим гипотезу на экспоненциальность распределения"
   ]
  },
  {
   "cell_type": "code",
   "execution_count": 53,
   "metadata": {
    "collapsed": false
   },
   "outputs": [
    {
     "name": "stdout",
     "output_type": "stream",
     "text": [
      "KstestResult(statistic=0.56397412068473529, pvalue=0.0)\n"
     ]
    }
   ],
   "source": [
    "print kstest(clicks_contr, 'expon')"
   ]
  },
  {
   "cell_type": "markdown",
   "metadata": {},
   "source": [
    "Гипотеза отвергается, поэтому будем использовать те же тесты, что и для CTR метрики."
   ]
  },
  {
   "cell_type": "code",
   "execution_count": 54,
   "metadata": {
    "collapsed": false
   },
   "outputs": [
    {
     "name": "stdout",
     "output_type": "stream",
     "text": [
      "MannwhitneyuResult(statistic=38901259929.0, pvalue=1.5633428851312857e-74)\n",
      "Ks_2sampResult(statistic=0.023833024410180481, pvalue=2.9236023409457489e-70)\n"
     ]
    }
   ],
   "source": [
    "print MW(clicks_contr, clicks_exp)\n",
    "print ks_2samp(clicks_contr, clicks_exp)"
   ]
  },
  {
   "cell_type": "markdown",
   "metadata": {},
   "source": [
    "Снова получаем значимое влияние на пользователей"
   ]
  },
  {
   "cell_type": "markdown",
   "metadata": {},
   "source": [
    "### Проверим, что внутри контрольной группы выполняется гипотеза, что контрольная группа из единого распределения (проверка, что тесты работают корректно)\n",
    "Для этого разделим выборку на две равные части и применим критерий Колмогорова-Смирнова. Ожидаем p-value > 0.05"
   ]
  },
  {
   "cell_type": "code",
   "execution_count": 55,
   "metadata": {
    "collapsed": false
   },
   "outputs": [
    {
     "data": {
      "text/plain": [
       "Ks_2sampResult(statistic=0.0037483473515429466, pvalue=0.2700870557705416)"
      ]
     },
     "execution_count": 55,
     "metadata": {},
     "output_type": "execute_result"
    }
   ],
   "source": [
    "part1, part2 = Splitter(clicks_contr, test_size=0.5)\n",
    "ks_2samp(part1, part2)"
   ]
  },
  {
   "cell_type": "markdown",
   "metadata": {},
   "source": [
    "## 4. Срезы и локализации"
   ]
  },
  {
   "cell_type": "markdown",
   "metadata": {},
   "source": [
    "Предполагаем, что в некоторых браузерах эффект был значимый в некоторых нет, поэтому протестируем гипотезы для каждого браузера"
   ]
  },
  {
   "cell_type": "code",
   "execution_count": 58,
   "metadata": {
    "collapsed": false
   },
   "outputs": [
    {
     "name": "stdout",
     "output_type": "stream",
     "text": [
      "p-value for browser 2 :  0.0310253303759\n",
      "p-value for browser 4 :  0.407784444038\n",
      "p-value for browser 14 :  0.0\n",
      "p-value for browser 17 :  0.0364582057965\n",
      "p-value for browser 20 :  0.454170826021\n",
      "p-value for browser 22 :  0.258927519107\n"
     ]
    }
   ],
   "source": [
    "browsers= np.zeros(max(userIDs) + 1)\n",
    "matr = data.as_matrix()\n",
    "for line in range(len(data)):\n",
    "    browsers[matr[line, 1]] = matr[line, 3]\n",
    "browsers_unique = data['browser'].unique()\n",
    "user_contr = pd.DataFrame({'userID':controlIDs, \n",
    "                           'clicks':clicks_contr,\n",
    "                           'ctr':ctr_contr, \n",
    "                           'qc':qc_contr,\n",
    "                           'cq':cq_contr,\n",
    "                           'browser':[browsers[user] for user in controlIDs]})\n",
    "user_exp = pd.DataFrame({'userID':expIDs, \n",
    "                         'clicks':clicks_exp, \n",
    "                         'ctr':ctr_exp, \n",
    "                         'qc':qc_exp,\n",
    "                         'cq':cq_exp,\n",
    "                         'browser':[browsers[user] for user in expIDs]})\n",
    "for browser in browsers_unique:\n",
    "    print \"p-value for browser\", browser, \": \", MW(user_contr[user_contr['browser'] == browser]['clicks'], \n",
    "             user_exp[user_exp['browser'] == browser]['clicks'])[1]"
   ]
  },
  {
   "cell_type": "markdown",
   "metadata": {},
   "source": [
    "### Вывод: для 14 браузера бесспорно изменение значимо, также эффект заметен для 2 и 17. На остальных браузерах особого влияния не наблюдается."
   ]
  },
  {
   "cell_type": "markdown",
   "metadata": {
    "collapsed": true
   },
   "source": [
    "## 5. Положительный или отрицательный эффект имело экспериментальное изменение?"
   ]
  },
  {
   "cell_type": "markdown",
   "metadata": {},
   "source": [
    "### 5.1 Будем действовать следующим образом:  \n",
    "1. Посмотрим на значимость браузеров (какая доля запросов приходится именно на данный браузер)  \n",
    "2. Определим значимость 14 браузера  \n",
    "3. Посмотрим, не изменилось ли число запросов в целом  \n",
    "4. Сформулируем дальнейший план действий"
   ]
  },
  {
   "cell_type": "code",
   "execution_count": 59,
   "metadata": {
    "collapsed": false
   },
   "outputs": [
    {
     "name": "stdout",
     "output_type": "stream",
     "text": [
      "browser  2 :  18.4 %\n",
      "browser  4 :  34.1 %\n",
      "browser  14 :  9.3 %\n",
      "browser  17 :  6.9 %\n",
      "browser  20 :  6.3 %\n",
      "browser  22 :  25.1 %\n"
     ]
    }
   ],
   "source": [
    "total_qc = np.sum(user_contr['qc']) + np.sum(user_exp['qc'])\n",
    "for browser in browsers_unique:\n",
    "    br_sum = np.sum(user_contr[user_contr['browser'] == browser]['qc']) +np.sum(user_exp[user_exp['browser'] == browser]['qc'])\n",
    "    print \"browser \", browser, \": \", round(1.0 * br_sum / total_qc, 3) * 100, \"%\""
   ]
  },
  {
   "cell_type": "markdown",
   "metadata": {},
   "source": [
    "Волшебный 14 браузер хоть и занимает всего 10% рынка, не может оказывать пренебрежимо малое влияние"
   ]
  },
  {
   "cell_type": "code",
   "execution_count": 60,
   "metadata": {
    "collapsed": false,
    "scrolled": true
   },
   "outputs": [
    {
     "name": "stdout",
     "output_type": "stream",
     "text": [
      "browser 2 :\n",
      "delta =  0.000620737457456  p_value =  0.429056324506\n",
      "browser 4 :\n",
      "delta =  0.0143097716411  p_value =  4.60745874411e-07\n",
      "browser 14 :\n",
      "delta =  0.00927730450803  p_value =  0.00823288678929\n",
      "browser 17 :\n",
      "delta =  0.00778866802758  p_value =  0.111621420351\n",
      "browser 20 :\n",
      "delta =  0.00990272373838  p_value =  0.0571003392158\n",
      "browser 22 :\n",
      "delta =  0.00686874797676  p_value =  0.0123045080401\n"
     ]
    }
   ],
   "source": [
    "for browser in browsers_unique:\n",
    "    MW_mean = (len(user_contr[user_contr['browser'] == browser]) * len(user_exp[user_exp['browser'] == browser])) / 2.0\n",
    "    MW_stat, p_value = MW(user_contr[user_contr['browser'] == browser]['qc'], user_exp[user_exp['browser'] == browser]['qc'])\n",
    "    print 'browser', browser, ':'\n",
    "    print 'delta = ', (MW_mean - MW_stat)/MW_mean, ' p_value = ', p_value"
   ]
  },
  {
   "cell_type": "markdown",
   "metadata": {},
   "source": [
    "По некоторым браузерам число запросов в целом значимо снизилось, что является негативным эффектом. Попробуем все же разобраться с 14 браузером"
   ]
  },
  {
   "cell_type": "markdown",
   "metadata": {},
   "source": [
    "### 5.2 Выводы\n",
    "Существенные различия в значимости браузеров заставляют задуматься над тем, насколько качественно оценивают ситуацию абсолютные метрики. Хочется перейти к относительным статистикам (CTR или доля кликнутых запросов) и далее говорить о важности результатов по каждому браузеру. Дальнейший план:  \n",
    "5. Посмотреть на CTR по браузерам и его изменение  \n",
    "6. Посмотреть на долю кликнутых запросов по браузерам и её изменение"
   ]
  },
  {
   "cell_type": "markdown",
   "metadata": {},
   "source": [
    "### CTR"
   ]
  },
  {
   "cell_type": "code",
   "execution_count": 61,
   "metadata": {
    "collapsed": false,
    "scrolled": true
   },
   "outputs": [
    {
     "name": "stdout",
     "output_type": "stream",
     "text": [
      "browser  2 :  control CTR:  0.967047350712     exp CTR 0.984332287468     delta:  0.0172849367553\n",
      "browser  4 :  control CTR:  1.03026329767     exp CTR 1.06432446335     delta:  0.0340611656773\n",
      "browser  14 :  control CTR:  0.647257474415     exp CTR 1.01181070999     delta:  0.364553235575\n",
      "browser  17 :  control CTR:  1.23659607634     exp CTR 1.2696358493     delta:  0.0330397729614\n",
      "browser  20 :  control CTR:  1.18473868652     exp CTR 1.19159179553     delta:  0.00685310900802\n",
      "browser  22 :  control CTR:  1.13917160425     exp CTR 1.14951210253     delta:  0.0103404982804\n"
     ]
    }
   ],
   "source": [
    "for browser in browsers_unique:\n",
    "    contr_ctr = np.mean(user_contr[user_contr['browser'] == browser]['ctr'])\n",
    "    exp_ctr = np.mean(user_exp[user_exp['browser'] == browser]['ctr'])\n",
    "    delta = exp_ctr - contr_ctr\n",
    "    print \"browser \", browser, \": \", \"control CTR: \", contr_ctr, \"    exp CTR\", exp_ctr, \"    delta: \", delta"
   ]
  },
  {
   "cell_type": "markdown",
   "metadata": {},
   "source": [
    "Кажется виден прогресс: на контрольной группе в 14 браузере CTR был плачевно мал по сравнению с остальными браузерами, теперь в экспериментальной наш волшебный браузер перестал так выбиваться.  \n",
    "Скорее всего исправлены ошибки и это дало положительный эффект"
   ]
  },
  {
   "cell_type": "markdown",
   "metadata": {},
   "source": [
    "### Число кликнутых запросов"
   ]
  },
  {
   "cell_type": "code",
   "execution_count": 62,
   "metadata": {
    "collapsed": false
   },
   "outputs": [
    {
     "name": "stdout",
     "output_type": "stream",
     "text": [
      "browser  2 :  control click count:  0.535870877325     exp click count 0.544600902702     delta:  0.00873002537764\n",
      "browser  4 :  control click count:  0.555237743254     exp click count 0.569918509873     delta:  0.0146807666191\n",
      "browser  14 :  control click count:  0.39926135763     exp click count 0.568942856231     delta:  0.1696814986\n",
      "browser  17 :  control click count:  0.632474981935     exp click count 0.633432429595     delta:  0.000957447659968\n",
      "browser  20 :  control click count:  0.609228131835     exp click count 0.621389999608     delta:  0.0121618677728\n",
      "browser  22 :  control click count:  0.605558524386     exp click count 0.609174187141     delta:  0.00361566275562\n"
     ]
    }
   ],
   "source": [
    "for browser in browsers_unique:\n",
    "    contr_cq = np.mean(user_contr[user_contr['browser'] == browser]['cq'])\n",
    "    exp_cq = np.mean(user_exp[user_exp['browser'] == browser]['cq'])\n",
    "    delta = exp_cq - contr_cq\n",
    "    print \"browser \", browser, \": \", \"control click count: \", contr_cq, \"    exp click count\", exp_cq, \"    delta: \", delta"
   ]
  },
  {
   "cell_type": "markdown",
   "metadata": {},
   "source": [
    "После того, что мы знаем о существенном росте CTR для 14 браузера не удивителен  также рост числа кликнутых запросов."
   ]
  },
  {
   "cell_type": "markdown",
   "metadata": {},
   "source": [
    "## 6. Итоговый вывод\n",
    "Скорее всего интегральный рост числа кликов, вызванный ростом числа кликов на 14 браузере обусловлен тем, что этот самый браузер был улучшен. А говоря точнее, не улучшен, а починен, т.к. раньше он был хуже остальных, а теперь держится на уровне."
   ]
  }
 ],
 "metadata": {
  "kernelspec": {
   "display_name": "Python 2",
   "language": "python",
   "name": "python2"
  },
  "language_info": {
   "codemirror_mode": {
    "name": "ipython",
    "version": 2
   },
   "file_extension": ".py",
   "mimetype": "text/x-python",
   "name": "python",
   "nbconvert_exporter": "python",
   "pygments_lexer": "ipython2",
   "version": "2.7.10"
  }
 },
 "nbformat": 4,
 "nbformat_minor": 0
}
