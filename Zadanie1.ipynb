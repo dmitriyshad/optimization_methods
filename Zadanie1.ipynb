{
 "cells": [
  {
   "cell_type": "markdown",
   "metadata": {},
   "source": [
    "#Фабарисов Дмитрий. Выпуклый анализ и оптимизация. Задание 1."
   ]
  },
  {
   "cell_type": "code",
   "execution_count": 50,
   "metadata": {
    "collapsed": false
   },
   "outputs": [
    {
     "name": "stdout",
     "output_type": "stream",
     "text": [
      "Populating the interactive namespace from numpy and matplotlib\n"
     ]
    }
   ],
   "source": [
    "import cvxopt as cp\n",
    "cp.solvers.options['show_progress'] = False\n",
    "\n",
    "from copy import deepcopy as dp\n",
    "import numpy as np\n",
    "import matplotlib.pyplot as plt\n",
    "\n",
    "from scipy.io import loadmat\n",
    "\n",
    "import cv2\n",
    "import skimage.io as sk\n",
    "\n",
    "%pylab inline"
   ]
  },
  {
   "cell_type": "code",
   "execution_count": 72,
   "metadata": {
    "collapsed": true
   },
   "outputs": [],
   "source": [
    "def show_pic(pic_list, name = ['picture']*100, figsize_ = (7, 7)):\n",
    "    fig = figure(figsize = figsize_)\n",
    "    for idx in range(len(pic_list)):\n",
    "        subplot = fig.add_subplot(1, len(pic_list), idx+1)\n",
    "        sk.imshow(pic_list[idx], cmap = 'gray')\n",
    "        subplot.set_title(name[idx])"
   ]
  },
  {
   "cell_type": "markdown",
   "metadata": {},
   "source": [
    "## Читаем данные"
   ]
  },
  {
   "cell_type": "code",
   "execution_count": 40,
   "metadata": {
    "collapsed": false
   },
   "outputs": [],
   "source": [
    "set1 = loadmat('set1.mat')\n",
    "set2 = loadmat('set2.mat')\n",
    "set3 = loadmat('set3.mat')\n",
    "\n",
    "A1 = np.matrix(set1['A'])\n",
    "b1 = np.matrix(set1['b'])\n",
    "A2 = np.matrix(set2['A'])\n",
    "b2 = np.matrix(set2['b'])\n",
    "A3 = np.matrix(set3['A'])\n",
    "b3 = np.matrix(set3['b'])"
   ]
  },
  {
   "cell_type": "code",
   "execution_count": 41,
   "metadata": {
    "collapsed": false,
    "scrolled": true
   },
   "outputs": [
    {
     "name": "stdout",
     "output_type": "stream",
     "text": [
      "(1, 300)\n",
      "(300, 2500)\n"
     ]
    }
   ],
   "source": [
    "ones_str = np.ones(300)\n",
    "ones_str = np.matrix(ones_str)\n",
    "print ones_str.shape\n",
    "print A1.shape"
   ]
  },
  {
   "cell_type": "markdown",
   "metadata": {},
   "source": [
    "## Посмотрим на плотность лучей в разных областях"
   ]
  },
  {
   "cell_type": "code",
   "execution_count": 42,
   "metadata": {
    "collapsed": false
   },
   "outputs": [
    {
     "name": "stdout",
     "output_type": "stream",
     "text": [
      "1\n"
     ]
    },
    {
     "data": {
      "image/png": "[encoded data removed]",
      "text/plain": [
       "<matplotlib.figure.Figure at 0x12ad775d0>"
      ]
     },
     "metadata": {},
     "output_type": "display_data"
    }
   ],
   "source": [
    "col_sums = ones_str * A1\n",
    "print len(col_sums)\n",
    "col_sums = col_sums.reshape(50, 50)\n",
    "show_pic([col_sums])"
   ]
  },
  {
   "cell_type": "markdown",
   "metadata": {
    "collapsed": true
   },
   "source": [
    "##Запишем уравнения ограничения"
   ]
  },
  {
   "cell_type": "markdown",
   "metadata": {
    "collapsed": true
   },
   "source": [
    "Учитываем, что $\\forall i \\rightarrow0 \\le x[i] \\le 1$. В обозначениях с CVXOPT User's Guide имеем:"
   ]
  },
  {
   "cell_type": "code",
   "execution_count": 43,
   "metadata": {
    "collapsed": false
   },
   "outputs": [],
   "source": [
    "x_size = 2500\n",
    "\n",
    "G = cp.matrix(concatenate((np.identity(x_size), -np.identity(x_size)), axis = 0))\n",
    "h = cp.matrix(concatenate((np.ones(x_size), np.zeros(x_size))))"
   ]
  },
  {
   "cell_type": "markdown",
   "metadata": {},
   "source": [
    "## Запишем квадратичную форму для оптимизиции"
   ]
  },
  {
   "cell_type": "code",
   "execution_count": 75,
   "metadata": {
    "collapsed": false
   },
   "outputs": [],
   "source": [
    "q1 = cp.matrix(-b1.T * A1).T\n",
    "q2 = cp.matrix(-b2.T * A2).T\n",
    "q3 = cp.matrix(-b3.T * A3).T"
   ]
  },
  {
   "cell_type": "code",
   "execution_count": 46,
   "metadata": {
    "collapsed": true
   },
   "outputs": [],
   "source": [
    "def kernel(i, j, n):\n",
    "    ix = i / n\n",
    "    iy = i % n\n",
    "    jx = j / n\n",
    "    jy = j % n\n",
    "    return 1 if abs(ix - jx) <= 1 and abs(iy - jy) <= 1 else 0\n",
    "\n",
    "def qp_params(kernel, n):\n",
    "    P = matrix(zeros((n, n)))\n",
    "    \n",
    "    for i in range(n):\n",
    "        for j in range(n):\n",
    "            if i != j:\n",
    "                ker = kernel(i, j)\n",
    "                P[i, j] -= ker\n",
    "                P[i, i] += 0.5 * ker\n",
    "                P[j, j] += 0.5 * ker\n",
    "    \n",
    "    return P\n",
    "\n",
    "P = qp_params(lambda i,j:kernel(i, j, 50), 2500)"
   ]
  },
  {
   "cell_type": "code",
   "execution_count": 67,
   "metadata": {
    "collapsed": true
   },
   "outputs": [],
   "source": [
    "def binarise(pic, koef):\n",
    "    pic_new = dp(pic)\n",
    "    pic_new[pic_new >= koef] = 1\n",
    "    pic_new[pic_new < koef] = 0\n",
    "    return pic_new"
   ]
  },
  {
   "cell_type": "code",
   "execution_count": 77,
   "metadata": {
    "collapsed": false
   },
   "outputs": [
    {
     "data": {
      "image/png": "[encoded data removed]",
      "text/plain": [
       "<matplotlib.figure.Figure at 0x12e4436d0>"
      ]
     },
     "metadata": {},
     "output_type": "display_data"
    }
   ],
   "source": [
    "alpha = 1.1\n",
    "sol = cp.solvers.qp(cp.matrix(alpha * 2 * P + A1.T * A1), q, G, h)\n",
    "binar = binarise(np.matrix(sol['x']).reshape(50,50), 0.3)\n",
    "show_pic([np.matrix(sol['x']).reshape(50,50), binar])"
   ]
  },
  {
   "cell_type": "code",
   "execution_count": 85,
   "metadata": {
    "collapsed": false
   },
   "outputs": [
    {
     "data": {
      "image/png": "[encoded data removed]",
      "text/plain": [
       "<matplotlib.figure.Figure at 0x12db6da10>"
      ]
     },
     "metadata": {},
     "output_type": "display_data"
    }
   ],
   "source": [
    "alpha = 0.8\n",
    "sol = cp.solvers.qp(cp.matrix(alpha * 2 * P + A2.T * A2), q2, G, h)\n",
    "binar = binarise(np.matrix(sol['x']).reshape(50,50), 0.35)\n",
    "show_pic([np.matrix(sol['x']).reshape(50,50), binar])"
   ]
  },
  {
   "cell_type": "code",
   "execution_count": 83,
   "metadata": {
    "collapsed": false
   },
   "outputs": [
    {
     "data": {
      "image/png": "[encoded data removed]",
      "text/plain": [
       "<matplotlib.figure.Figure at 0x12e1d8450>"
      ]
     },
     "metadata": {},
     "output_type": "display_data"
    }
   ],
   "source": [
    "alpha = 0.8\n",
    "sol = cp.solvers.qp(cp.matrix(alpha * 2 * P + A3.T * A3), q3, G, h)\n",
    "binar = binarise(np.matrix(sol['x']).reshape(50,50), 0.25)\n",
    "show_pic([np.matrix(sol['x']).reshape(50,50), binar])"
   ]
  },
  {
   "cell_type": "code",
   "execution_count": null,
   "metadata": {
    "collapsed": true
   },
   "outputs": [],
   "source": []
  }
 ],
 "metadata": {
  "kernelspec": {
   "display_name": "Python 2",
   "language": "python",
   "name": "python2"
  },
  "language_info": {
   "codemirror_mode": {
    "name": "ipython",
    "version": 2
   },
   "file_extension": ".py",
   "mimetype": "text/x-python",
   "name": "python",
   "nbconvert_exporter": "python",
   "pygments_lexer": "ipython2",
   "version": "2.7.8"
  }
 },
 "nbformat": 4,
 "nbformat_minor": 0
}
